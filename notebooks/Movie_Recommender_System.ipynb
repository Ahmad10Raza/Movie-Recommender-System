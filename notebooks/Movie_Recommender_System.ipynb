{
 "cells": [
  {
   "cell_type": "markdown",
   "metadata": {},
   "source": [
    "# What is Movie Recommender System\n",
    "\n",
    "A **movie recommender system** is a type of software application or algorithm designed to provide personalized suggestions or recommendations for movies to users based on their preferences, behavior, or historical data. Recommender systems are widely used in various online platforms to enhance user experience by offering tailored content recommendations. There are several types of movie recommender systems, but two common approaches are collaborative filtering and content-based filtering.\n",
    "\n",
    "1. **Collaborative Filtering:**\n",
    "   - **User-Based Collaborative Filtering:** Recommends movies based on the preferences of users who are similar to the target user. If User A and User B have similar tastes and both liked a movie, the system might recommend that movie to User B.\n",
    "   - **Item-Based Collaborative Filtering:** Recommends movies similar to those the user has already liked. If a user enjoyed Movie X, the system suggests other movies that are often liked by users who enjoyed Movie X.\n",
    "\n",
    "2. **Content-Based Filtering:**\n",
    "   - Analyzes the content of movies and recommends items similar to those the user has shown interest in before. This can involve features such as genre, director, actors, or keywords associated with the movies.\n",
    "   - The system builds a profile for each user based on their preferences and matches it with the features of available movies.\n",
    "\n",
    "3. **Hybrid Recommender Systems:**\n",
    "   - Combine collaborative filtering and content-based filtering to leverage the strengths of both approaches. Hybrid systems can provide more accurate and diverse recommendations.\n",
    "\n",
    "4. **Matrix Factorization:**\n",
    "   - Techniques like Singular Value Decomposition (SVD) or matrix factorization are used to discover latent factors that contribute to a user's preferences and make recommendations based on these factors.\n",
    "\n",
    "5. **Deep Learning Models:**\n",
    "   - Deep learning models, such as neural collaborative filtering, use neural networks to learn complex patterns and relationships in user-item interactions, improving the accuracy of recommendations.\n",
    "\n",
    "6. **Context-Aware Recommender Systems:**\n",
    "   - Take into account additional contextual information, such as the user's location, time, or device, to provide more contextually relevant recommendations.\n",
    "\n",
    "Popular movie streaming platforms like Netflix, Hulu, and Amazon Prime Video use sophisticated recommender systems to offer users a personalized and engaging viewing experience. These systems play a crucial role in helping users discover new content they are likely to enjoy, ultimately increasing user satisfaction and platform engagement."
   ]
  },
  {
   "cell_type": "markdown",
   "metadata": {},
   "source": [
    "## Importing Libraries"
   ]
  },
  {
   "cell_type": "code",
   "execution_count": 2,
   "metadata": {},
   "outputs": [],
   "source": [
    "import numpy as np\n",
    "import pandas as pd\n",
    "# import matplotlib.pyplot as plt\n",
    "import ast\n",
    "import nltk\n",
    "from nltk.stem import PorterStemmer\n",
    "from sklearn.feature_extraction.text import CountVectorizer\n",
    "from sklearn.metrics.pairwise import cosine_similarity\n",
    "import pickle"
   ]
  },
  {
   "cell_type": "code",
   "execution_count": null,
   "metadata": {},
   "outputs": [],
   "source": []
  }
 ],
 "metadata": {
  "kernelspec": {
   "display_name": "menv",
   "language": "python",
   "name": "python3"
  },
  "language_info": {
   "codemirror_mode": {
    "name": "ipython",
    "version": 3
   },
   "file_extension": ".py",
   "mimetype": "text/x-python",
   "name": "python",
   "nbconvert_exporter": "python",
   "pygments_lexer": "ipython3",
   "version": "3.8.18"
  }
 },
 "nbformat": 4,
 "nbformat_minor": 2
}
